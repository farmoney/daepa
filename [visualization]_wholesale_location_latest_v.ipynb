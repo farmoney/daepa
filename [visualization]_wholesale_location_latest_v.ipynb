{
 "cells": [
  {
   "cell_type": "code",
   "execution_count": null,
   "source": [
    "import pandas as pd\n",
    "import numpy as np\n",
    "import matplotlib.pyplot as plt\n",
    "import matplotlib\n",
    "import seaborn as sns\n",
    "import datetime"
   ],
   "outputs": [],
   "metadata": {}
  },
  {
   "cell_type": "code",
   "execution_count": null,
   "source": [
    "FOLDER_PATH = \"graph_ver.3.0/\"\n",
    "\n",
    "# 폴더 있는지 확인하고 없으면 새로 만든다.\n",
    "import os\n",
    "try:\n",
    "    if not os.path.exists(FOLDER_PATH):\n",
    "        os.makedirs(FOLDER_PATH)\n",
    "except:\n",
    "    print(f\"Error: Do not create foler. {FOLDER_PATH}\")"
   ],
   "outputs": [],
   "metadata": {}
  },
  {
   "cell_type": "markdown",
   "source": [
    "# 지역 추출 전 데이터\n",
    "---"
   ],
   "metadata": {}
  },
  {
   "cell_type": "code",
   "execution_count": null,
   "source": [
    "#############################################################################\n",
    "FILE_PATH_EDA = \"도매_EDA_완료_new_v3.0.csv\"\n",
    "#############################################################################\n",
    "raw_data_eda = pd.read_csv(FILE_PATH_EDA)\n",
    "raw_data_eda.drop(columns=\"Unnamed: 0\", inplace=True)"
   ],
   "outputs": [],
   "metadata": {}
  },
  {
   "cell_type": "code",
   "execution_count": null,
   "source": [
    "feature_list = [\"DELNG_DE\",\"PBLMNG_WHSAL_MRKT_NM\",\"CPR_NM\",\n",
    "                \"CPR_USE_SPCIES_NM\",\"PRICE\",\"DELNGBUNDLE_QY\",\n",
    "                \"STNDRD\",\"DELNG_QY\",\"SANJI_NM\"]\n",
    "\n",
    "data_eda1 = raw_data_eda.copy()\n",
    "data_eda2 = data_eda1[[\"DELNG_DE\", \"PBLMNG_WHSAL_MRKT_NM\", \"PRICE\"]].copy()\n",
    "data_eda2[\"DELNG_DE\"] = pd.to_datetime(data_eda2[\"DELNG_DE\"], format=\"%Y%m%d\")"
   ],
   "outputs": [],
   "metadata": {}
  },
  {
   "cell_type": "code",
   "execution_count": null,
   "source": [
    "# 연도 별 data 변수 생성\n",
    "START_YEAR = 2016\n",
    "year_list = list(range(START_YEAR, datetime.date.today().year + 1))\n",
    "\n",
    "for year in year_list:\n",
    "    temp_ds = data_eda2.loc[data_eda2[\"DELNG_DE\"].dt.year == year].copy()\n",
    "    temp_ds.sort_values(\"DELNG_DE\", inplace=True)\n",
    "    globals()[\"data\" + str(year)] = temp_ds"
   ],
   "outputs": [],
   "metadata": {}
  },
  {
   "cell_type": "markdown",
   "source": [
    "## 시장별 / 연도별 변동성\n",
    "---"
   ],
   "metadata": {}
  },
  {
   "cell_type": "code",
   "execution_count": null,
   "source": [
    "data_list = [data2016, data2017, data2018, data2019, data2020, data2021]\n",
    "market_list = \\\n",
    "    [\"서울가락도매\", \"구리도매시장\", \"부산엄궁도매\", \"서울강서도매\"]\n",
    "\n",
    "for i, data in enumerate(data_list):\n",
    "    # datetime to str\n",
    "    ds = data.copy()\n",
    "    temp_m = ds[\"DELNG_DE\"].dt.month.astype(\"str\")\n",
    "    temp_d = ds[\"DELNG_DE\"].dt.day.astype(\"str\")\n",
    "    ds[\"DELNG_DE\"] = \\\n",
    "        temp_m.apply(lambda x: format(x, '0>2')) \\\n",
    "        + '/' \\\n",
    "        + temp_d.apply(lambda x: format(x, '0>2'))\n",
    "    for market in market_list:\n",
    "        ds_m = ds.loc[ds[\"PBLMNG_WHSAL_MRKT_NM\"] == market].copy()\n",
    "        plt.figure(figsize=(30, 15))\n",
    "        sns.set_theme(\n",
    "            style=\"whitegrid\",\n",
    "            font=\"AppleGothic\", \n",
    "            rc={\"axes.unicode_minus\": False},\n",
    "        )\n",
    "        sns.boxplot(\n",
    "            x=\"DELNG_DE\",\n",
    "            y=\"PRICE\",\n",
    "            data=ds_m,\n",
    "            whis=1.5, # IQR\n",
    "            linewidth=0.5, # 라인 굵기\n",
    "            # fliersize=0.5, # 이상치 사이즈\n",
    "            showfliers=False, # 이상치 숨김\n",
    "            # showcaps=False, # 꼬리 숨김\n",
    "            medianprops=dict(color=\"white\", alpha=0.9, linewidth=1), # 중앙값\n",
    "        )\n",
    "\n",
    "        plt.title(\n",
    "            f\"{market}_{i+2016}년\",\n",
    "            pad=20,\n",
    "            fontsize=40,\n",
    "            fontweight=\"heavy\",\n",
    "            color=\"gray\"\n",
    "        )\n",
    "        plt.yticks( # y축 값\n",
    "            fontsize=20,\n",
    "            color=\"gray\",\n",
    "        ) \n",
    "        plt.xticks( # x축 값\n",
    "            rotation=90, \n",
    "            fontsize=6,\n",
    "            color=\"gray\",\n",
    "        )\n",
    "        plt.ylim(0, 10000) # y축 범위\n",
    "        plt.ylabel(\n",
    "            \"PRICE(₩)\",\n",
    "            labelpad=10, # 축과 여백\n",
    "            fontsize=30,\n",
    "            fontweight=\"bold\",\n",
    "            color=\"gray\"\n",
    "            # loc=\"right\" # 위치 [\"top\", \"center\", \"bottom\"]\n",
    "        )\n",
    "        plt.xlabel(\n",
    "            \"DATES\",\n",
    "            labelpad=10, # 축과 여백\n",
    "            fontsize=30,\n",
    "            fontweight=\"bold\",\n",
    "            color=\"gray\"\n",
    "        )\n",
    "        \n",
    "        plt.savefig(\n",
    "            f\"{FOLDER_PATH}{market}_{i + 2016}.png\",\n",
    "            transparent = True, # 배경색 투명하게\n",
    "            dpi=200, # 선명도\n",
    "        )"
   ],
   "outputs": [],
   "metadata": {}
  },
  {
   "cell_type": "markdown",
   "source": [
    "---\n",
    "---"
   ],
   "metadata": {}
  },
  {
   "cell_type": "markdown",
   "source": [
    "# 지역 추출 후 데이터\n",
    "---"
   ],
   "metadata": {}
  },
  {
   "cell_type": "code",
   "execution_count": null,
   "source": [
    "###########################################################################\n",
    "FILE_PATH1 = \"지역_추출_도매_데이터_new_v2.0.csv\"\n",
    "###########################################################################\n",
    "\n",
    "raw_data = pd.read_csv(FILE_PATH1, index_col=0)\n",
    "# raw_data.drop(\n",
    "#     columns=[], \n",
    "#     inplace=True\n",
    "# )"
   ],
   "outputs": [],
   "metadata": {}
  },
  {
   "cell_type": "code",
   "execution_count": null,
   "source": [
    "data1 = raw_data.copy()\n",
    "data1[\"DELNG_DE\"] = pd.to_datetime(data1[\"DELNG_DE\"], format=\"%Y%m%d\")\n",
    "data1[\"COUNT\"] = 1\n",
    "data1.rename(columns={\"VOLUME\": \"VOLUME\"}, inplace=True)"
   ],
   "outputs": [],
   "metadata": {}
  },
  {
   "cell_type": "code",
   "execution_count": null,
   "source": [
    "agg_dict = {\n",
    "    \"PRICE\": [\n",
    "        (\"PRICE_MAX\", \"max\"), \n",
    "        (\"PRICE_MIN\", \"min\"), \n",
    "        (\"PRICE_MEAN\", np.mean),\n",
    "        (\"PRICE_MEDIAN\", np.median),\n",
    "        (\"PRICE_STD\", np.std)\n",
    "    ],\n",
    "    \"VOLUME\": [(\"VOLUME\", np.sum)],\n",
    "    \"COUNT\": [(\"TRANSACTIONS\", \"count\")],\n",
    "}\n",
    "\n",
    "g_data = \\\n",
    "    data1.groupby(\n",
    "        [\"DELNG_DE\", \"SANJI_NM\"],\n",
    "        # as_index=False, # reset_index와 동일함\n",
    "    ).agg(agg_dict).reset_index(col_level=1).droplevel(level=0, axis=1)"
   ],
   "outputs": [],
   "metadata": {}
  }
 ],
 "metadata": {
  "interpreter": {
   "hash": "7812ea015bdcee6f23a998adcdd2ef97c151c0c241b7b7070987d9313e41299d"
  },
  "kernelspec": {
   "name": "python3",
   "display_name": "Python 3.9.6 64-bit"
  },
  "language_info": {
   "codemirror_mode": {
    "name": "ipython",
    "version": 3
   },
   "file_extension": ".py",
   "mimetype": "text/x-python",
   "name": "python",
   "nbconvert_exporter": "python",
   "pygments_lexer": "ipython3",
   "version": "3.9.6"
  }
 },
 "nbformat": 4,
 "nbformat_minor": 2
}