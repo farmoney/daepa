{
    "cells": [
        {
            "cell_type": "code",
            "execution_count": 2,
            "source": [
                "import pickle\n",
                "from tensorflow.keras.models import load_model\n",
                "import joblib \n",
                "import pandas as pd\n",
                "import numpy as np\n",
                "import os \n",
                "import sys\n",
                "from sklearn.preprocessing import MinMaxScaler"
            ],
            "outputs": [],
            "metadata": {}
        },
        {
            "cell_type": "code",
            "execution_count": 5,
            "source": [
                "TARGET = \"VOLUME\"\n",
                "os.getcwd()"
            ],
            "outputs": [
                {
                    "output_type": "execute_result",
                    "data": {
                        "text/plain": [
                            "'/Users/sungjune/Library/Mobile Documents/com~apple~CloudDocs/Datasience/[Project] 3. 대파 생산량 예측'"
                        ]
                    },
                    "metadata": {},
                    "execution_count": 5
                }
            ],
            "metadata": {}
        },
        {
            "cell_type": "code",
            "execution_count": 4,
            "source": [
                "# 강원 Load\n",
                "gangwon_pred = \\\n",
                "    pd.read_csv(\"Farmoney/static/gangwon_pred.csv\", index_col=0)\n",
                "gangwon_pred_ar = np.array(gangwon_pred.drop(columns=TARGET)[-20:])\n",
                "\n",
                "# 경기 Load\n",
                "gyeonggi_pred = \\\n",
                "    pd.read_csv(\"Farmoney/static/gyeonggi_pred.csv\", index_col=0)\n",
                "gyeonggi_pred_ar = np.array(gyeonggi_pred.drop(columns=TARGET)[-20:])\n",
                "\n",
                "# 경남 Load\n",
                "gyengnam_pred = \\\n",
                "    pd.read_csv(\"Farmoney/static/gyengnam_pred.csv\", index_col=0)\n",
                "gyengnam_pred_ar = np.array(gyengnam_pred.drop(columns=TARGET)[-20:])\n",
                "\n",
                "# 전남 Load\n",
                "jeonnam_pred = \\\n",
                "    pd.read_csv(\"Farmoney/static/jeonnam_pred.csv\", index_col=0)\n",
                "jeonnam_pred_ar = np.array(jeonnam_pred.drop(columns=TARGET)[-20:])"
            ],
            "outputs": [
                {
                    "output_type": "error",
                    "ename": "FileNotFoundError",
                    "evalue": "[Errno 2] No such file or directory: 'Farmoney/static/gangwon_pred.csv'",
                    "traceback": [
                        "\u001b[0;31m---------------------------------------------------------------------------\u001b[0m",
                        "\u001b[0;31mFileNotFoundError\u001b[0m                         Traceback (most recent call last)",
                        "\u001b[0;32m<ipython-input-4-1f6504247c03>\u001b[0m in \u001b[0;36m<module>\u001b[0;34m\u001b[0m\n\u001b[1;32m      1\u001b[0m \u001b[0;31m# 강원 Load\u001b[0m\u001b[0;34m\u001b[0m\u001b[0;34m\u001b[0m\u001b[0;34m\u001b[0m\u001b[0m\n\u001b[1;32m      2\u001b[0m \u001b[0mgangwon_pred\u001b[0m \u001b[0;34m=\u001b[0m\u001b[0;31m \u001b[0m\u001b[0;31m\\\u001b[0m\u001b[0;34m\u001b[0m\u001b[0;34m\u001b[0m\u001b[0m\n\u001b[0;32m----> 3\u001b[0;31m     \u001b[0mpd\u001b[0m\u001b[0;34m.\u001b[0m\u001b[0mread_csv\u001b[0m\u001b[0;34m(\u001b[0m\u001b[0;34m\"Farmoney/static/gangwon_pred.csv\"\u001b[0m\u001b[0;34m,\u001b[0m \u001b[0mindex_col\u001b[0m\u001b[0;34m=\u001b[0m\u001b[0;36m0\u001b[0m\u001b[0;34m)\u001b[0m\u001b[0;34m\u001b[0m\u001b[0;34m\u001b[0m\u001b[0m\n\u001b[0m\u001b[1;32m      4\u001b[0m \u001b[0mgangwon_pred_ar\u001b[0m \u001b[0;34m=\u001b[0m \u001b[0mnp\u001b[0m\u001b[0;34m.\u001b[0m\u001b[0marray\u001b[0m\u001b[0;34m(\u001b[0m\u001b[0mgangwon_pred\u001b[0m\u001b[0;34m.\u001b[0m\u001b[0mdrop\u001b[0m\u001b[0;34m(\u001b[0m\u001b[0mcolumns\u001b[0m\u001b[0;34m=\u001b[0m\u001b[0mTARGET\u001b[0m\u001b[0;34m)\u001b[0m\u001b[0;34m[\u001b[0m\u001b[0;34m-\u001b[0m\u001b[0;36m20\u001b[0m\u001b[0;34m:\u001b[0m\u001b[0;34m]\u001b[0m\u001b[0;34m)\u001b[0m\u001b[0;34m\u001b[0m\u001b[0;34m\u001b[0m\u001b[0m\n\u001b[1;32m      5\u001b[0m \u001b[0;34m\u001b[0m\u001b[0m\n",
                        "\u001b[0;32m/Library/Frameworks/Python.framework/Versions/3.9/lib/python3.9/site-packages/pandas/util/_decorators.py\u001b[0m in \u001b[0;36mwrapper\u001b[0;34m(*args, **kwargs)\u001b[0m\n\u001b[1;32m    309\u001b[0m                     \u001b[0mstacklevel\u001b[0m\u001b[0;34m=\u001b[0m\u001b[0mstacklevel\u001b[0m\u001b[0;34m,\u001b[0m\u001b[0;34m\u001b[0m\u001b[0;34m\u001b[0m\u001b[0m\n\u001b[1;32m    310\u001b[0m                 )\n\u001b[0;32m--> 311\u001b[0;31m             \u001b[0;32mreturn\u001b[0m \u001b[0mfunc\u001b[0m\u001b[0;34m(\u001b[0m\u001b[0;34m*\u001b[0m\u001b[0margs\u001b[0m\u001b[0;34m,\u001b[0m \u001b[0;34m**\u001b[0m\u001b[0mkwargs\u001b[0m\u001b[0;34m)\u001b[0m\u001b[0;34m\u001b[0m\u001b[0;34m\u001b[0m\u001b[0m\n\u001b[0m\u001b[1;32m    312\u001b[0m \u001b[0;34m\u001b[0m\u001b[0m\n\u001b[1;32m    313\u001b[0m         \u001b[0;32mreturn\u001b[0m \u001b[0mwrapper\u001b[0m\u001b[0;34m\u001b[0m\u001b[0;34m\u001b[0m\u001b[0m\n",
                        "\u001b[0;32m/Library/Frameworks/Python.framework/Versions/3.9/lib/python3.9/site-packages/pandas/io/parsers/readers.py\u001b[0m in \u001b[0;36mread_csv\u001b[0;34m(filepath_or_buffer, sep, delimiter, header, names, index_col, usecols, squeeze, prefix, mangle_dupe_cols, dtype, engine, converters, true_values, false_values, skipinitialspace, skiprows, skipfooter, nrows, na_values, keep_default_na, na_filter, verbose, skip_blank_lines, parse_dates, infer_datetime_format, keep_date_col, date_parser, dayfirst, cache_dates, iterator, chunksize, compression, thousands, decimal, lineterminator, quotechar, quoting, doublequote, escapechar, comment, encoding, encoding_errors, dialect, error_bad_lines, warn_bad_lines, on_bad_lines, delim_whitespace, low_memory, memory_map, float_precision, storage_options)\u001b[0m\n\u001b[1;32m    584\u001b[0m     \u001b[0mkwds\u001b[0m\u001b[0;34m.\u001b[0m\u001b[0mupdate\u001b[0m\u001b[0;34m(\u001b[0m\u001b[0mkwds_defaults\u001b[0m\u001b[0;34m)\u001b[0m\u001b[0;34m\u001b[0m\u001b[0;34m\u001b[0m\u001b[0m\n\u001b[1;32m    585\u001b[0m \u001b[0;34m\u001b[0m\u001b[0m\n\u001b[0;32m--> 586\u001b[0;31m     \u001b[0;32mreturn\u001b[0m \u001b[0m_read\u001b[0m\u001b[0;34m(\u001b[0m\u001b[0mfilepath_or_buffer\u001b[0m\u001b[0;34m,\u001b[0m \u001b[0mkwds\u001b[0m\u001b[0;34m)\u001b[0m\u001b[0;34m\u001b[0m\u001b[0;34m\u001b[0m\u001b[0m\n\u001b[0m\u001b[1;32m    587\u001b[0m \u001b[0;34m\u001b[0m\u001b[0m\n\u001b[1;32m    588\u001b[0m \u001b[0;34m\u001b[0m\u001b[0m\n",
                        "\u001b[0;32m/Library/Frameworks/Python.framework/Versions/3.9/lib/python3.9/site-packages/pandas/io/parsers/readers.py\u001b[0m in \u001b[0;36m_read\u001b[0;34m(filepath_or_buffer, kwds)\u001b[0m\n\u001b[1;32m    480\u001b[0m \u001b[0;34m\u001b[0m\u001b[0m\n\u001b[1;32m    481\u001b[0m     \u001b[0;31m# Create the parser.\u001b[0m\u001b[0;34m\u001b[0m\u001b[0;34m\u001b[0m\u001b[0;34m\u001b[0m\u001b[0m\n\u001b[0;32m--> 482\u001b[0;31m     \u001b[0mparser\u001b[0m \u001b[0;34m=\u001b[0m \u001b[0mTextFileReader\u001b[0m\u001b[0;34m(\u001b[0m\u001b[0mfilepath_or_buffer\u001b[0m\u001b[0;34m,\u001b[0m \u001b[0;34m**\u001b[0m\u001b[0mkwds\u001b[0m\u001b[0;34m)\u001b[0m\u001b[0;34m\u001b[0m\u001b[0;34m\u001b[0m\u001b[0m\n\u001b[0m\u001b[1;32m    483\u001b[0m \u001b[0;34m\u001b[0m\u001b[0m\n\u001b[1;32m    484\u001b[0m     \u001b[0;32mif\u001b[0m \u001b[0mchunksize\u001b[0m \u001b[0;32mor\u001b[0m \u001b[0miterator\u001b[0m\u001b[0;34m:\u001b[0m\u001b[0;34m\u001b[0m\u001b[0;34m\u001b[0m\u001b[0m\n",
                        "\u001b[0;32m/Library/Frameworks/Python.framework/Versions/3.9/lib/python3.9/site-packages/pandas/io/parsers/readers.py\u001b[0m in \u001b[0;36m__init__\u001b[0;34m(self, f, engine, **kwds)\u001b[0m\n\u001b[1;32m    809\u001b[0m             \u001b[0mself\u001b[0m\u001b[0;34m.\u001b[0m\u001b[0moptions\u001b[0m\u001b[0;34m[\u001b[0m\u001b[0;34m\"has_index_names\"\u001b[0m\u001b[0;34m]\u001b[0m \u001b[0;34m=\u001b[0m \u001b[0mkwds\u001b[0m\u001b[0;34m[\u001b[0m\u001b[0;34m\"has_index_names\"\u001b[0m\u001b[0;34m]\u001b[0m\u001b[0;34m\u001b[0m\u001b[0;34m\u001b[0m\u001b[0m\n\u001b[1;32m    810\u001b[0m \u001b[0;34m\u001b[0m\u001b[0m\n\u001b[0;32m--> 811\u001b[0;31m         \u001b[0mself\u001b[0m\u001b[0;34m.\u001b[0m\u001b[0m_engine\u001b[0m \u001b[0;34m=\u001b[0m \u001b[0mself\u001b[0m\u001b[0;34m.\u001b[0m\u001b[0m_make_engine\u001b[0m\u001b[0;34m(\u001b[0m\u001b[0mself\u001b[0m\u001b[0;34m.\u001b[0m\u001b[0mengine\u001b[0m\u001b[0;34m)\u001b[0m\u001b[0;34m\u001b[0m\u001b[0;34m\u001b[0m\u001b[0m\n\u001b[0m\u001b[1;32m    812\u001b[0m \u001b[0;34m\u001b[0m\u001b[0m\n\u001b[1;32m    813\u001b[0m     \u001b[0;32mdef\u001b[0m \u001b[0mclose\u001b[0m\u001b[0;34m(\u001b[0m\u001b[0mself\u001b[0m\u001b[0;34m)\u001b[0m\u001b[0;34m:\u001b[0m\u001b[0;34m\u001b[0m\u001b[0;34m\u001b[0m\u001b[0m\n",
                        "\u001b[0;32m/Library/Frameworks/Python.framework/Versions/3.9/lib/python3.9/site-packages/pandas/io/parsers/readers.py\u001b[0m in \u001b[0;36m_make_engine\u001b[0;34m(self, engine)\u001b[0m\n\u001b[1;32m   1038\u001b[0m             )\n\u001b[1;32m   1039\u001b[0m         \u001b[0;31m# error: Too many arguments for \"ParserBase\"\u001b[0m\u001b[0;34m\u001b[0m\u001b[0;34m\u001b[0m\u001b[0;34m\u001b[0m\u001b[0m\n\u001b[0;32m-> 1040\u001b[0;31m         \u001b[0;32mreturn\u001b[0m \u001b[0mmapping\u001b[0m\u001b[0;34m[\u001b[0m\u001b[0mengine\u001b[0m\u001b[0;34m]\u001b[0m\u001b[0;34m(\u001b[0m\u001b[0mself\u001b[0m\u001b[0;34m.\u001b[0m\u001b[0mf\u001b[0m\u001b[0;34m,\u001b[0m \u001b[0;34m**\u001b[0m\u001b[0mself\u001b[0m\u001b[0;34m.\u001b[0m\u001b[0moptions\u001b[0m\u001b[0;34m)\u001b[0m  \u001b[0;31m# type: ignore[call-arg]\u001b[0m\u001b[0;34m\u001b[0m\u001b[0;34m\u001b[0m\u001b[0m\n\u001b[0m\u001b[1;32m   1041\u001b[0m \u001b[0;34m\u001b[0m\u001b[0m\n\u001b[1;32m   1042\u001b[0m     \u001b[0;32mdef\u001b[0m \u001b[0m_failover_to_python\u001b[0m\u001b[0;34m(\u001b[0m\u001b[0mself\u001b[0m\u001b[0;34m)\u001b[0m\u001b[0;34m:\u001b[0m\u001b[0;34m\u001b[0m\u001b[0;34m\u001b[0m\u001b[0m\n",
                        "\u001b[0;32m/Library/Frameworks/Python.framework/Versions/3.9/lib/python3.9/site-packages/pandas/io/parsers/c_parser_wrapper.py\u001b[0m in \u001b[0;36m__init__\u001b[0;34m(self, src, **kwds)\u001b[0m\n\u001b[1;32m     49\u001b[0m \u001b[0;34m\u001b[0m\u001b[0m\n\u001b[1;32m     50\u001b[0m         \u001b[0;31m# open handles\u001b[0m\u001b[0;34m\u001b[0m\u001b[0;34m\u001b[0m\u001b[0;34m\u001b[0m\u001b[0m\n\u001b[0;32m---> 51\u001b[0;31m         \u001b[0mself\u001b[0m\u001b[0;34m.\u001b[0m\u001b[0m_open_handles\u001b[0m\u001b[0;34m(\u001b[0m\u001b[0msrc\u001b[0m\u001b[0;34m,\u001b[0m \u001b[0mkwds\u001b[0m\u001b[0;34m)\u001b[0m\u001b[0;34m\u001b[0m\u001b[0;34m\u001b[0m\u001b[0m\n\u001b[0m\u001b[1;32m     52\u001b[0m         \u001b[0;32massert\u001b[0m \u001b[0mself\u001b[0m\u001b[0;34m.\u001b[0m\u001b[0mhandles\u001b[0m \u001b[0;32mis\u001b[0m \u001b[0;32mnot\u001b[0m \u001b[0;32mNone\u001b[0m\u001b[0;34m\u001b[0m\u001b[0;34m\u001b[0m\u001b[0m\n\u001b[1;32m     53\u001b[0m \u001b[0;34m\u001b[0m\u001b[0m\n",
                        "\u001b[0;32m/Library/Frameworks/Python.framework/Versions/3.9/lib/python3.9/site-packages/pandas/io/parsers/base_parser.py\u001b[0m in \u001b[0;36m_open_handles\u001b[0;34m(self, src, kwds)\u001b[0m\n\u001b[1;32m    220\u001b[0m         \u001b[0mLet\u001b[0m \u001b[0mthe\u001b[0m \u001b[0mreaders\u001b[0m \u001b[0mopen\u001b[0m \u001b[0mIOHandles\u001b[0m \u001b[0mafter\u001b[0m \u001b[0mthey\u001b[0m \u001b[0mare\u001b[0m \u001b[0mdone\u001b[0m \u001b[0;32mwith\u001b[0m \u001b[0mtheir\u001b[0m \u001b[0mpotential\u001b[0m \u001b[0mraises\u001b[0m\u001b[0;34m.\u001b[0m\u001b[0;34m\u001b[0m\u001b[0;34m\u001b[0m\u001b[0m\n\u001b[1;32m    221\u001b[0m         \"\"\"\n\u001b[0;32m--> 222\u001b[0;31m         self.handles = get_handle(\n\u001b[0m\u001b[1;32m    223\u001b[0m             \u001b[0msrc\u001b[0m\u001b[0;34m,\u001b[0m\u001b[0;34m\u001b[0m\u001b[0;34m\u001b[0m\u001b[0m\n\u001b[1;32m    224\u001b[0m             \u001b[0;34m\"r\"\u001b[0m\u001b[0;34m,\u001b[0m\u001b[0;34m\u001b[0m\u001b[0;34m\u001b[0m\u001b[0m\n",
                        "\u001b[0;32m/Library/Frameworks/Python.framework/Versions/3.9/lib/python3.9/site-packages/pandas/io/common.py\u001b[0m in \u001b[0;36mget_handle\u001b[0;34m(path_or_buf, mode, encoding, compression, memory_map, is_text, errors, storage_options)\u001b[0m\n\u001b[1;32m    699\u001b[0m         \u001b[0;32mif\u001b[0m \u001b[0mioargs\u001b[0m\u001b[0;34m.\u001b[0m\u001b[0mencoding\u001b[0m \u001b[0;32mand\u001b[0m \u001b[0;34m\"b\"\u001b[0m \u001b[0;32mnot\u001b[0m \u001b[0;32min\u001b[0m \u001b[0mioargs\u001b[0m\u001b[0;34m.\u001b[0m\u001b[0mmode\u001b[0m\u001b[0;34m:\u001b[0m\u001b[0;34m\u001b[0m\u001b[0;34m\u001b[0m\u001b[0m\n\u001b[1;32m    700\u001b[0m             \u001b[0;31m# Encoding\u001b[0m\u001b[0;34m\u001b[0m\u001b[0;34m\u001b[0m\u001b[0;34m\u001b[0m\u001b[0m\n\u001b[0;32m--> 701\u001b[0;31m             handle = open(\n\u001b[0m\u001b[1;32m    702\u001b[0m                 \u001b[0mhandle\u001b[0m\u001b[0;34m,\u001b[0m\u001b[0;34m\u001b[0m\u001b[0;34m\u001b[0m\u001b[0m\n\u001b[1;32m    703\u001b[0m                 \u001b[0mioargs\u001b[0m\u001b[0;34m.\u001b[0m\u001b[0mmode\u001b[0m\u001b[0;34m,\u001b[0m\u001b[0;34m\u001b[0m\u001b[0;34m\u001b[0m\u001b[0m\n",
                        "\u001b[0;31mFileNotFoundError\u001b[0m: [Errno 2] No such file or directory: 'Farmoney/static/gangwon_pred.csv'"
                    ]
                }
            ],
            "metadata": {}
        },
        {
            "cell_type": "code",
            "execution_count": null,
            "source": [
                "# minmaxscaler load\n",
                "x_scaler = joblib.load('Farmoney/static/[MMS_X]31.pkl')\n",
                "y_scaler = joblib.load('Farmoney/static/[MMS_y]1.pkl')\n",
                "assert isinstance(x_scaler, MinMaxScaler)\n",
                "assert isinstance(y_scaler, MinMaxScaler)\n",
                "x_scaler.clip = False  # add this line\n",
                "y_scaler.clip = False  # add this line"
            ],
            "outputs": [
                {
                    "output_type": "stream",
                    "name": "stderr",
                    "text": [
                        "/Library/Frameworks/Python.framework/Versions/3.9/lib/python3.9/site-packages/sklearn/base.py:310: UserWarning: Trying to unpickle estimator MinMaxScaler from version 0.23.2 when using version 0.24.2. This might lead to breaking code or invalid results. Use at your own risk.\n",
                        "  warnings.warn(\n"
                    ]
                }
            ],
            "metadata": {}
        },
        {
            "cell_type": "code",
            "execution_count": null,
            "source": [
                "# 예측에 사용할 x 데이터\n",
                "gangwon_pred_sc = x_scaler.transform(gangwon_pred_ar)\n",
                "gyeonggi_pred_sc = x_scaler.transform(gyeonggi_pred_ar)\n",
                "gyengnam_pred_sc = x_scaler.transform(gyengnam_pred_ar)\n",
                "jeonnam_pred_sc = x_scaler.transform(jeonnam_pred_ar)"
            ],
            "outputs": [],
            "metadata": {}
        },
        {
            "cell_type": "code",
            "execution_count": null,
            "source": [
                "# 모델 로드\n",
                "gw_w1_m = load_model('Farmoney/static/gangwon_w1.h5')\n",
                "gw_w2_m = load_model('Farmoney/static/gangwon_w2.h5')\n",
                "gw_w3_m = load_model('Farmoney/static/gangwon_w3.h5')\n",
                "gw_w4_m = load_model('Farmoney/static/gangwon_w4.h5')\n",
                "gg_w1_m = load_model('Farmoney/static/gyeonggi_w1.h5')\n",
                "gg_w2_m = load_model('Farmoney/static/gyeonggi_w2.h5')\n",
                "gg_w3_m = load_model('Farmoney/static/gyeonggi_w3.h5')\n",
                "gg_w4_m = load_model('Farmoney/static/gyeonggi_w4.h5')\n",
                "gn_w1_m = load_model('Farmoney/static/gyengnam_w1.h5')\n",
                "gn_w2_m = load_model('Farmoney/static/gyengnam_w2.h5')\n",
                "gn_w3_m = load_model('Farmoney/static/gyengnam_w3.h5')\n",
                "gn_w4_m = load_model('Farmoney/static/gyengnam_w4.h5')\n",
                "jn_w1_m = load_model('Farmoney/static/jeonnam_w1.h5')\n",
                "jn_w2_m = load_model('Farmoney/static/jeonnam_w2.h5')\n",
                "jn_w3_m = load_model('Farmoney/static/jeonnam_w3.h5')\n",
                "jn_w4_m = load_model('Farmoney/static/jeonnam_w4.h5')"
            ],
            "outputs": [],
            "metadata": {}
        },
        {
            "cell_type": "code",
            "execution_count": null,
            "source": [
                "# 모델로 예측값 도출한 뒤 scaler로 역산\n",
                "gw_pred_w1 = gw_w1_m.predict(gangwon_pred_sc.reshape(1, 20, 31))\n",
                "gw_pred_w2 = gw_w2_m.predict(gangwon_pred_sc.reshape(1, 20, 31))\n",
                "gw_pred_w3 = gw_w3_m.predict(gangwon_pred_sc.reshape(1, 20, 31))\n",
                "gw_pred_w4 = gw_w4_m.predict(gangwon_pred_sc.reshape(1, 20, 31))\n",
                "gw_pred_w1_sc = y_scaler.inverse_transform(gw_pred_w1)[0][0]\n",
                "gw_pred_w2_sc = y_scaler.inverse_transform(gw_pred_w2)[0][0]\n",
                "gw_pred_w3_sc = y_scaler.inverse_transform(gw_pred_w3)[0][0]\n",
                "gw_pred_w4_sc = y_scaler.inverse_transform(gw_pred_w4)[0][0]\n",
                "gg_pred_w1 = gg_w1_m.predict(gyeonggi_pred_sc.reshape(1, 20, 31))\n",
                "gg_pred_w2 = gg_w2_m.predict(gyeonggi_pred_sc.reshape(1, 20, 31))\n",
                "gg_pred_w3 = gg_w3_m.predict(gyeonggi_pred_sc.reshape(1, 20, 31))\n",
                "gg_pred_w4 = gg_w4_m.predict(gyeonggi_pred_sc.reshape(1, 20, 31))\n",
                "gg_pred_w1_sc = y_scaler.inverse_transform(gg_pred_w1)[0][0]\n",
                "gg_pred_w2_sc = y_scaler.inverse_transform(gg_pred_w2)[0][0]\n",
                "gg_pred_w3_sc = y_scaler.inverse_transform(gg_pred_w3)[0][0]\n",
                "gg_pred_w4_sc = y_scaler.inverse_transform(gg_pred_w4)[0][0]\n",
                "gn_pred_w1 = gn_w1_m.predict(gyengnam_pred_sc.reshape(1, 20, 31))\n",
                "gn_pred_w2 = gn_w2_m.predict(gyengnam_pred_sc.reshape(1, 20, 31))\n",
                "gn_pred_w3 = gn_w3_m.predict(gyengnam_pred_sc.reshape(1, 20, 31))\n",
                "gn_pred_w4 = gn_w4_m.predict(gyengnam_pred_sc.reshape(1, 20, 31))\n",
                "gn_pred_w1_sc = y_scaler.inverse_transform(gn_pred_w1)[0][0]\n",
                "gn_pred_w2_sc = y_scaler.inverse_transform(gn_pred_w2)[0][0]\n",
                "gn_pred_w3_sc = y_scaler.inverse_transform(gn_pred_w3)[0][0]\n",
                "gn_pred_w4_sc = y_scaler.inverse_transform(gn_pred_w4)[0][0]\n",
                "jn_pred_w1 = jn_w1_m.predict(jeonnam_pred_sc.reshape(1, 20, 31))\n",
                "jn_pred_w2 = jn_w2_m.predict(jeonnam_pred_sc.reshape(1, 20, 31))\n",
                "jn_pred_w3 = jn_w3_m.predict(jeonnam_pred_sc.reshape(1, 20, 31))\n",
                "jn_pred_w4 = jn_w4_m.predict(jeonnam_pred_sc.reshape(1, 20, 31))\n",
                "jn_pred_w1_sc = y_scaler.inverse_transform(jn_pred_w1)[0][0]\n",
                "jn_pred_w2_sc = y_scaler.inverse_transform(jn_pred_w2)[0][0]\n",
                "jn_pred_w3_sc = y_scaler.inverse_transform(jn_pred_w3)[0][0]\n",
                "jn_pred_w4_sc = y_scaler.inverse_transform(jn_pred_w4)[0][0]\n",
                "\n",
                "# 과거 Target 값\n",
                "gw_wb20_y = gangwon_pred[TARGET].iloc[-20:].reset_index(drop=True)\n",
                "gg_wb20_y = gyeonggi_pred[TARGET].iloc[-20:].reset_index(drop=True)\n",
                "gn_wb20_y = gyengnam_pred[TARGET].iloc[-20:].reset_index(drop=True)\n",
                "jn_wb20_y = jeonnam_pred[TARGET].iloc[-20:].reset_index(drop=True)"
            ],
            "outputs": [],
            "metadata": {}
        },
        {
            "cell_type": "code",
            "execution_count": null,
            "source": [
                "# 과거 데이터 컬럼명 만들기\n",
                "before_dates_columns = []\n",
                "for i in list(range(19, -1, -1)):\n",
                "    if i == 0:\n",
                "        before_dates_columns.append(f\"{i}주\")\n",
                "    else:\n",
                "        before_dates_columns.append(f\"{i}주 전\")\n",
                "\n",
                "# 과거 데이터 불러와서 DataFrame으로 만들기\n",
                "before_date_df = \\\n",
                "    pd.DataFrame(\n",
                "        [gw_wb20_y, gg_wb20_y, gn_wb20_y, jn_wb20_y],\n",
                "    )\n",
                "before_date_df.columns=before_dates_columns\n",
                "before_date_df.index=rows"
            ],
            "outputs": [],
            "metadata": {}
        },
        {
            "cell_type": "code",
            "execution_count": null,
            "source": [
                "# 예측 DataFrame\n",
                "rows = ['강원','경기','경남','전남']\n",
                "cols = ['1주 후','2주 후','3주 후','4주 후']\n",
                "after_date_df = \\\n",
                "    pd.DataFrame(\n",
                "        [[gw_pred_w1_sc, gw_pred_w2_sc, gw_pred_w3_sc, gw_pred_w4_sc],\n",
                "         [gg_pred_w1_sc, gg_pred_w2_sc, gg_pred_w3_sc, gg_pred_w4_sc],\n",
                "         [gn_pred_w1_sc, gn_pred_w2_sc, gn_pred_w3_sc, gn_pred_w4_sc],\n",
                "         [jn_pred_w1_sc, jn_pred_w2_sc, jn_pred_w3_sc, jn_pred_w4_sc],\n",
                "        ],\n",
                "        index=rows, columns=cols\n",
                "    )\n",
                "\n",
                "# 과거 DataFrame, 예측 DataFrame 병합\n",
                "concat_df = pd.concat([before_date_df, after_date_df], axis=1)\n",
                "s_columns = concat_df.columns\n",
                "for c in s_columns:\n",
                "    concat_df.loc[\"합계\", c] = concat_df[c].sum()\n",
                "concat_df = concat_df.astype(\"int\")\n",
                "\n",
                "# 등락률 DataFrame\n",
                "percent_df = concat_df.copy()\n",
                "for i in range(23):\n",
                "    a_week = np.array(concat_df.iloc[:, (i + 1):(i + 2)])\n",
                "    b_week = np.array(concat_df.iloc[:, i:(i + 1)])\n",
                "    percent_df.iloc[:, i+1] = ((a_week - b_week) / b_week) * 100\n",
                "percent_df.drop(columns=\"19주 전\", inplace=True)\n",
                "percent_df = percent_df.applymap(lambda x: format(x, \".2f\"))"
            ],
            "outputs": [],
            "metadata": {}
        },
        {
            "cell_type": "code",
            "execution_count": null,
            "source": [
                "# 0주부터 4주까지만 추출\n",
                "table_df_0to4 = concat_df.iloc[:, -5:].copy()"
            ],
            "outputs": [
                {
                    "output_type": "execute_result",
                    "data": {
                        "text/plain": [
                            "         0주    1주 후     2주 후     3주 후     4주 후\n",
                            "강원  1248723   49823   534634   408770   305737\n",
                            "경기   391101  294992  1327876   336526   380992\n",
                            "경남   253960   65931   572726   649199  1124014\n",
                            "전남    39266   58399    64533     1919    20908\n",
                            "합계  1933050  469147  2499771  1396416  1831651"
                        ],
                        "text/html": [
                            "<div>\n",
                            "<style scoped>\n",
                            "    .dataframe tbody tr th:only-of-type {\n",
                            "        vertical-align: middle;\n",
                            "    }\n",
                            "\n",
                            "    .dataframe tbody tr th {\n",
                            "        vertical-align: top;\n",
                            "    }\n",
                            "\n",
                            "    .dataframe thead th {\n",
                            "        text-align: right;\n",
                            "    }\n",
                            "</style>\n",
                            "<table border=\"1\" class=\"dataframe\">\n",
                            "  <thead>\n",
                            "    <tr style=\"text-align: right;\">\n",
                            "      <th></th>\n",
                            "      <th>0주</th>\n",
                            "      <th>1주 후</th>\n",
                            "      <th>2주 후</th>\n",
                            "      <th>3주 후</th>\n",
                            "      <th>4주 후</th>\n",
                            "    </tr>\n",
                            "  </thead>\n",
                            "  <tbody>\n",
                            "    <tr>\n",
                            "      <th>강원</th>\n",
                            "      <td>1248723</td>\n",
                            "      <td>49823</td>\n",
                            "      <td>534634</td>\n",
                            "      <td>408770</td>\n",
                            "      <td>305737</td>\n",
                            "    </tr>\n",
                            "    <tr>\n",
                            "      <th>경기</th>\n",
                            "      <td>391101</td>\n",
                            "      <td>294992</td>\n",
                            "      <td>1327876</td>\n",
                            "      <td>336526</td>\n",
                            "      <td>380992</td>\n",
                            "    </tr>\n",
                            "    <tr>\n",
                            "      <th>경남</th>\n",
                            "      <td>253960</td>\n",
                            "      <td>65931</td>\n",
                            "      <td>572726</td>\n",
                            "      <td>649199</td>\n",
                            "      <td>1124014</td>\n",
                            "    </tr>\n",
                            "    <tr>\n",
                            "      <th>전남</th>\n",
                            "      <td>39266</td>\n",
                            "      <td>58399</td>\n",
                            "      <td>64533</td>\n",
                            "      <td>1919</td>\n",
                            "      <td>20908</td>\n",
                            "    </tr>\n",
                            "    <tr>\n",
                            "      <th>합계</th>\n",
                            "      <td>1933050</td>\n",
                            "      <td>469147</td>\n",
                            "      <td>2499771</td>\n",
                            "      <td>1396416</td>\n",
                            "      <td>1831651</td>\n",
                            "    </tr>\n",
                            "  </tbody>\n",
                            "</table>\n",
                            "</div>"
                        ]
                    },
                    "metadata": {},
                    "execution_count": 251
                }
            ],
            "metadata": {}
        },
        {
            "cell_type": "code",
            "execution_count": null,
            "source": [
                "# 등락률\n",
                "percent_df.T.plot(\n",
                "    kind=\"line\"\n",
                ")"
            ],
            "outputs": [
                {
                    "output_type": "error",
                    "ename": "NameError",
                    "evalue": "name 'percent_df' is not defined",
                    "traceback": [
                        "\u001b[0;31m---------------------------------------------------------------------------\u001b[0m",
                        "\u001b[0;31mNameError\u001b[0m                                 Traceback (most recent call last)",
                        "\u001b[0;32m<ipython-input-1-13fd4ecae31f>\u001b[0m in \u001b[0;36m<module>\u001b[0;34m\u001b[0m\n\u001b[1;32m      1\u001b[0m \u001b[0;31m# 등락률\u001b[0m\u001b[0;34m\u001b[0m\u001b[0;34m\u001b[0m\u001b[0;34m\u001b[0m\u001b[0m\n\u001b[0;32m----> 2\u001b[0;31m percent_df.T.plot(\n\u001b[0m\u001b[1;32m      3\u001b[0m     \u001b[0mkind\u001b[0m\u001b[0;34m=\u001b[0m\u001b[0;34m\"line\"\u001b[0m\u001b[0;34m\u001b[0m\u001b[0;34m\u001b[0m\u001b[0m\n\u001b[1;32m      4\u001b[0m )\n",
                        "\u001b[0;31mNameError\u001b[0m: name 'percent_df' is not defined"
                    ]
                }
            ],
            "metadata": {}
        },
        {
            "cell_type": "code",
            "execution_count": null,
            "source": [],
            "outputs": [],
            "metadata": {}
        }
    ],
    "metadata": {
        "orig_nbformat": 4,
        "language_info": {
            "name": "python",
            "version": "3.9.6",
            "mimetype": "text/x-python",
            "codemirror_mode": {
                "name": "ipython",
                "version": 3
            },
            "pygments_lexer": "ipython3",
            "nbconvert_exporter": "python",
            "file_extension": ".py"
        },
        "kernelspec": {
            "name": "python3",
            "display_name": "Python 3.9.6 64-bit"
        },
        "interpreter": {
            "hash": "7812ea015bdcee6f23a998adcdd2ef97c151c0c241b7b7070987d9313e41299d"
        }
    },
    "nbformat": 4,
    "nbformat_minor": 2
}